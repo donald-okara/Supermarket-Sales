{
 "cells": [
  {
   "cell_type": "code",
   "execution_count": null,
   "metadata": {},
   "outputs": [],
   "source": [
    "#Importing libraries\n",
    "\n",
    "import pandas as pd\n",
    "import numpy as np\n",
    "import seaborn as sns\n",
    "import ipywidgets as widgets\n",
    "\n",
    "import matplotlib.pyplot as plt\n",
    "print('Libraries imported successfully..........')"
   ]
  },
  {
   "cell_type": "code",
   "execution_count": null,
   "metadata": {},
   "outputs": [],
   "source": [
    "#Importing data\n",
    "df = pd.read_csv('supermarket_sales - Sheet1.csv')\n",
    "print('Data imported successfully...')"
   ]
  },
  {
   "attachments": {},
   "cell_type": "markdown",
   "metadata": {},
   "source": [
    "### 1. Analysis based on gender"
   ]
  },
  {
   "cell_type": "code",
   "execution_count": null,
   "metadata": {
    "notebookRunGroups": {
     "groupValue": ""
    }
   },
   "outputs": [],
   "source": [
    "# Count the occurrences of each gender per branch\n",
    "gender_counts = df.groupby(['Branch', 'Gender']).size().unstack().reset_index()\n",
    "\n",
    "# Set the index as the 'Branch' column\n",
    "gender_counts.set_index('Branch', inplace=True)\n",
    "\n",
    "# Create a heatmap table using seaborn\n",
    "sns.heatmap(gender_counts, annot=True, cmap='Blues', cbar=False)\n",
    "\n",
    "# Set the title and labels\n",
    "plt.title('Popularity of Supermarket Branches based on Gender')\n",
    "plt.xlabel('Gender')\n",
    "plt.ylabel('Branch')\n",
    "\n",
    "# Show the plot\n",
    "plt.show()\n",
    "\n",
    "\n",
    "\n",
    "\n"
   ]
  },
  {
   "cell_type": "code",
   "execution_count": null,
   "metadata": {},
   "outputs": [],
   "source": [
    "# Count the occurrences of each gender per customer type\n",
    "ctype_counts = df.groupby(['Customer type', 'Gender']).size().unstack().reset_index()\n",
    "\n",
    "# Set the index as the 'Branch' column\n",
    "ctype_counts.set_index('Customer type', inplace=True)\n",
    "\n",
    "# Create a heatmap table using seaborn\n",
    "sns.heatmap(ctype_counts, annot=True, cmap='Blues', cbar=False)\n",
    "\n",
    "# Set the title and labels\n",
    "plt.title('Popularity of customer type based on Gender')\n",
    "plt.xlabel('Customer type')\n",
    "plt.ylabel('Branch')\n",
    "\n",
    "# Show the plot\n",
    "plt.show()\n",
    "\n",
    "\n",
    "\n",
    "\n"
   ]
  },
  {
   "cell_type": "code",
   "execution_count": null,
   "metadata": {},
   "outputs": [],
   "source": [
    "# Count the occurrences of each gender per Product line\n",
    "pline_counts = df.groupby(['Product line', 'Gender']).size().unstack().reset_index()\n",
    "\n",
    "# Set the index as the 'Branch' column\n",
    "pline_counts.set_index('Product line', inplace=True)\n",
    "\n",
    "# Create a heatmap table using seaborn\n",
    "sns.heatmap(pline_counts, annot=True, cmap='Blues', cbar=False)\n",
    "\n",
    "# Set the title and labels\n",
    "plt.title('Popularity of Product line based on Gender')\n",
    "plt.xlabel('Gender')\n",
    "plt.ylabel('Product line')\n",
    "\n",
    "# Show the plot\n",
    "plt.show()\n",
    "\n",
    "\n",
    "\n",
    "\n"
   ]
  },
  {
   "cell_type": "code",
   "execution_count": null,
   "metadata": {},
   "outputs": [],
   "source": [
    "# Count the occurrences of each gender per payment type\n",
    "ptype_counts = df.groupby(['Payment', 'Gender']).size().unstack().reset_index()\n",
    "\n",
    "# Set the index as the 'Branch' column\n",
    "ptype_counts.set_index('Payment', inplace=True)\n",
    "\n",
    "# Create a heatmap table using seaborn\n",
    "sns.heatmap(ptype_counts, annot=True, cmap='Blues', cbar=False)\n",
    "\n",
    "# Set the title and labels\n",
    "plt.title('Popularity of Payment type based on Gender')\n",
    "plt.xlabel('Gender')\n",
    "plt.ylabel('Payment')\n",
    "\n",
    "# Show the plot\n",
    "plt.show()\n",
    "\n",
    "\n",
    "\n",
    "\n"
   ]
  },
  {
   "cell_type": "code",
   "execution_count": null,
   "metadata": {},
   "outputs": [],
   "source": [
    "df"
   ]
  },
  {
   "cell_type": "markdown",
   "metadata": {},
   "source": [
    "### 2. Analysis based on branch"
   ]
  },
  {
   "cell_type": "code",
   "execution_count": null,
   "metadata": {},
   "outputs": [],
   "source": [
    "# Count the occurrences of each branch per customer type\n",
    "ctype_counts = df.groupby(['Customer type', 'Branch']).size().unstack().reset_index()\n",
    "\n",
    "# Set the index as the 'Branch' column\n",
    "ctype_counts.set_index('Customer type', inplace=True)\n",
    "\n",
    "# Create a heatmap table using seaborn\n",
    "sns.heatmap(ctype_counts, annot=True, cmap='Blues', cbar=False)\n",
    "\n",
    "# Set the title and labels\n",
    "plt.title('Popularity of customer type based on branch')\n",
    "plt.xlabel('Customer type')\n",
    "plt.ylabel('Branch')\n",
    "\n",
    "# Show the plot\n",
    "plt.show()\n",
    "\n",
    "\n",
    "\n",
    "\n"
   ]
  },
  {
   "cell_type": "code",
   "execution_count": null,
   "metadata": {},
   "outputs": [],
   "source": [
    "# Count the occurrences of each branch per Product line\n",
    "pline_counts = df.groupby(['Product line', 'Branch']).size().unstack().reset_index()\n",
    "\n",
    "# Set the index as the 'Branch' column\n",
    "pline_counts.set_index('Product line', inplace=True)\n",
    "\n",
    "# Create a heatmap table using seaborn\n",
    "sns.heatmap(pline_counts, annot=True, cmap='Blues', cbar=False)\n",
    "\n",
    "# Set the title and labels\n",
    "plt.title('Popularity of Product line based on Branch')\n",
    "plt.xlabel('Branch')\n",
    "plt.ylabel('Product line')\n",
    "\n",
    "# Show the plot\n",
    "plt.show()\n",
    "\n",
    "\n",
    "\n",
    "\n"
   ]
  },
  {
   "cell_type": "code",
   "execution_count": null,
   "metadata": {},
   "outputs": [],
   "source": [
    "# Count the occurrences of each branch per payment type\n",
    "ptype_counts = df.groupby(['Payment', 'Branch']).size().unstack().reset_index()\n",
    "\n",
    "# Set the index as the 'Branch' column\n",
    "ptype_counts.set_index('Payment', inplace=True)\n",
    "\n",
    "# Create a heatmap table using seaborn\n",
    "sns.heatmap(ptype_counts, annot=True, cmap='Blues', cbar=False)\n",
    "\n",
    "# Set the title and labels\n",
    "plt.title('Popularity of Payment type based on Branch')\n",
    "plt.xlabel('Branch')\n",
    "plt.ylabel('Payment')\n",
    "\n",
    "# Show the plot\n",
    "plt.show()\n",
    "\n",
    "\n",
    "\n",
    "\n"
   ]
  },
  {
   "attachments": {},
   "cell_type": "markdown",
   "metadata": {},
   "source": [
    "### 3. Analysis based on Custome type"
   ]
  },
  {
   "cell_type": "code",
   "execution_count": null,
   "metadata": {},
   "outputs": [],
   "source": [
    "# Count the occurrences of each Customer type per Product line\n",
    "pline_counts = df.groupby(['Product line', 'Customer type']).size().unstack().reset_index()\n",
    "\n",
    "# Set the index as the 'Branch' column\n",
    "pline_counts.set_index('Product line', inplace=True)\n",
    "\n",
    "# Create a heatmap table using seaborn\n",
    "sns.heatmap(pline_counts, annot=True, cmap='Blues', cbar=False)\n",
    "\n",
    "# Set the title and labels\n",
    "plt.title('Popularity of Product line based on Branch')\n",
    "plt.xlabel('Customer type')\n",
    "plt.ylabel('Product line')\n",
    "\n",
    "# Show the plot\n",
    "plt.show()\n",
    "\n",
    "\n",
    "\n",
    "\n",
    "\n"
   ]
  },
  {
   "cell_type": "code",
   "execution_count": null,
   "metadata": {},
   "outputs": [],
   "source": [
    "# Count the occurrences of each Customer type per payment type\n",
    "ptype_counts = df.groupby(['Payment', 'Customer type']).size().unstack().reset_index()\n",
    "\n",
    "# Set the index as the 'Branch' column\n",
    "ptype_counts.set_index('Payment', inplace=True)\n",
    "\n",
    "# Create a heatmap table using seaborn\n",
    "sns.heatmap(ptype_counts, annot=True, cmap='Blues', cbar=False)\n",
    "\n",
    "# Set the title and labels\n",
    "plt.title('Popularity of Payment type based on Branch')\n",
    "plt.xlabel('Customer type')\n",
    "plt.ylabel('Payment')\n",
    "\n",
    "# Show the plot\n",
    "plt.show()\n",
    "\n",
    "\n",
    "\n",
    "\n"
   ]
  },
  {
   "cell_type": "code",
   "execution_count": null,
   "metadata": {},
   "outputs": [],
   "source": [
    "df"
   ]
  },
  {
   "cell_type": "code",
   "execution_count": null,
   "metadata": {},
   "outputs": [],
   "source": []
  }
 ],
 "metadata": {
  "kernelspec": {
   "display_name": "NewEnv",
   "language": "python",
   "name": "python3"
  },
  "language_info": {
   "codemirror_mode": {
    "name": "ipython",
    "version": 3
   },
   "file_extension": ".py",
   "mimetype": "text/x-python",
   "name": "python",
   "nbconvert_exporter": "python",
   "pygments_lexer": "ipython3",
   "version": "3.8.13"
  },
  "orig_nbformat": 4
 },
 "nbformat": 4,
 "nbformat_minor": 2
}
